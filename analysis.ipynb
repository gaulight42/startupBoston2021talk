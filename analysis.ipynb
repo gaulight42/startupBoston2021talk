{
 "cells": [
  {
   "cell_type": "code",
   "execution_count": 109,
   "metadata": {
    "collapsed": true
   },
   "outputs": [],
   "source": [
    "import pandas as pd\n",
    "import seaborn as sns\n",
    "import matplotlib.pyplot as plt"
   ]
  },
  {
   "cell_type": "code",
   "execution_count": 45,
   "metadata": {
    "collapsed": false
   },
   "outputs": [],
   "source": [
    "countypres_df = pd.read_csv(\"countypres_2000-2020.csv\")\n"
   ]
  },
  {
   "cell_type": "code",
   "execution_count": 4,
   "metadata": {
    "collapsed": false,
    "scrolled": true
   },
   "outputs": [
    {
     "data": {
      "text/html": [
       "<div>\n",
       "<style scoped>\n",
       "    .dataframe tbody tr th:only-of-type {\n",
       "        vertical-align: middle;\n",
       "    }\n",
       "\n",
       "    .dataframe tbody tr th {\n",
       "        vertical-align: top;\n",
       "    }\n",
       "\n",
       "    .dataframe thead th {\n",
       "        text-align: right;\n",
       "    }\n",
       "</style>\n",
       "<table border=\"1\" class=\"dataframe\">\n",
       "  <thead>\n",
       "    <tr style=\"text-align: right;\">\n",
       "      <th></th>\n",
       "      <th>year</th>\n",
       "      <th>state</th>\n",
       "      <th>state_po</th>\n",
       "      <th>county_name</th>\n",
       "      <th>county_fips</th>\n",
       "      <th>office</th>\n",
       "      <th>candidate</th>\n",
       "      <th>party</th>\n",
       "      <th>candidatevotes</th>\n",
       "      <th>totalvotes</th>\n",
       "      <th>version</th>\n",
       "      <th>mode</th>\n",
       "    </tr>\n",
       "  </thead>\n",
       "  <tbody>\n",
       "    <tr>\n",
       "      <th>0</th>\n",
       "      <td>2000</td>\n",
       "      <td>ALABAMA</td>\n",
       "      <td>AL</td>\n",
       "      <td>AUTAUGA</td>\n",
       "      <td>1001.0</td>\n",
       "      <td>PRESIDENT</td>\n",
       "      <td>AL GORE</td>\n",
       "      <td>DEMOCRAT</td>\n",
       "      <td>4942.0</td>\n",
       "      <td>17208.0</td>\n",
       "      <td>20191203</td>\n",
       "      <td>TOTAL</td>\n",
       "    </tr>\n",
       "    <tr>\n",
       "      <th>1</th>\n",
       "      <td>2000</td>\n",
       "      <td>ALABAMA</td>\n",
       "      <td>AL</td>\n",
       "      <td>AUTAUGA</td>\n",
       "      <td>1001.0</td>\n",
       "      <td>PRESIDENT</td>\n",
       "      <td>GEORGE W. BUSH</td>\n",
       "      <td>REPUBLICAN</td>\n",
       "      <td>11993.0</td>\n",
       "      <td>17208.0</td>\n",
       "      <td>20191203</td>\n",
       "      <td>TOTAL</td>\n",
       "    </tr>\n",
       "    <tr>\n",
       "      <th>2</th>\n",
       "      <td>2000</td>\n",
       "      <td>ALABAMA</td>\n",
       "      <td>AL</td>\n",
       "      <td>AUTAUGA</td>\n",
       "      <td>1001.0</td>\n",
       "      <td>PRESIDENT</td>\n",
       "      <td>RALPH NADER</td>\n",
       "      <td>GREEN</td>\n",
       "      <td>160.0</td>\n",
       "      <td>17208.0</td>\n",
       "      <td>20191203</td>\n",
       "      <td>TOTAL</td>\n",
       "    </tr>\n",
       "    <tr>\n",
       "      <th>3</th>\n",
       "      <td>2000</td>\n",
       "      <td>ALABAMA</td>\n",
       "      <td>AL</td>\n",
       "      <td>AUTAUGA</td>\n",
       "      <td>1001.0</td>\n",
       "      <td>PRESIDENT</td>\n",
       "      <td>OTHER</td>\n",
       "      <td>OTHER</td>\n",
       "      <td>113.0</td>\n",
       "      <td>17208.0</td>\n",
       "      <td>20191203</td>\n",
       "      <td>TOTAL</td>\n",
       "    </tr>\n",
       "    <tr>\n",
       "      <th>4</th>\n",
       "      <td>2000</td>\n",
       "      <td>ALABAMA</td>\n",
       "      <td>AL</td>\n",
       "      <td>BALDWIN</td>\n",
       "      <td>1003.0</td>\n",
       "      <td>PRESIDENT</td>\n",
       "      <td>AL GORE</td>\n",
       "      <td>DEMOCRAT</td>\n",
       "      <td>13997.0</td>\n",
       "      <td>56480.0</td>\n",
       "      <td>20191203</td>\n",
       "      <td>TOTAL</td>\n",
       "    </tr>\n",
       "  </tbody>\n",
       "</table>\n",
       "</div>"
      ],
      "text/plain": [
       "   year    state state_po county_name  county_fips     office       candidate  \\\n",
       "0  2000  ALABAMA       AL     AUTAUGA       1001.0  PRESIDENT         AL GORE   \n",
       "1  2000  ALABAMA       AL     AUTAUGA       1001.0  PRESIDENT  GEORGE W. BUSH   \n",
       "2  2000  ALABAMA       AL     AUTAUGA       1001.0  PRESIDENT     RALPH NADER   \n",
       "3  2000  ALABAMA       AL     AUTAUGA       1001.0  PRESIDENT           OTHER   \n",
       "4  2000  ALABAMA       AL     BALDWIN       1003.0  PRESIDENT         AL GORE   \n",
       "\n",
       "        party  candidatevotes  totalvotes   version   mode  \n",
       "0    DEMOCRAT          4942.0     17208.0  20191203  TOTAL  \n",
       "1  REPUBLICAN         11993.0     17208.0  20191203  TOTAL  \n",
       "2       GREEN           160.0     17208.0  20191203  TOTAL  \n",
       "3       OTHER           113.0     17208.0  20191203  TOTAL  \n",
       "4    DEMOCRAT         13997.0     56480.0  20191203  TOTAL  "
      ]
     },
     "execution_count": 4,
     "metadata": {},
     "output_type": "execute_result"
    }
   ],
   "source": [
    "countypres_df.head()"
   ]
  },
  {
   "cell_type": "code",
   "execution_count": 46,
   "metadata": {
    "collapsed": false
   },
   "outputs": [],
   "source": [
    "countyclass_df = pd.read_csv(\"CountyClassifications.csv\", encoding='latin',sep='\\t',dtype={\"FIPStxt\": int})"
   ]
  },
  {
   "cell_type": "code",
   "execution_count": 47,
   "metadata": {
    "collapsed": false
   },
   "outputs": [
    {
     "data": {
      "text/html": [
       "<div>\n",
       "<style scoped>\n",
       "    .dataframe tbody tr th:only-of-type {\n",
       "        vertical-align: middle;\n",
       "    }\n",
       "\n",
       "    .dataframe tbody tr th {\n",
       "        vertical-align: top;\n",
       "    }\n",
       "\n",
       "    .dataframe thead th {\n",
       "        text-align: right;\n",
       "    }\n",
       "</style>\n",
       "<table border=\"1\" class=\"dataframe\">\n",
       "  <thead>\n",
       "    <tr style=\"text-align: right;\">\n",
       "      <th></th>\n",
       "      <th>FIPStxt</th>\n",
       "      <th>State</th>\n",
       "      <th>County</th>\n",
       "      <th>RuralUrbanContinuumCode2013</th>\n",
       "      <th>UrbanInfluenceCode2013</th>\n",
       "      <th>RuralUrbanContinuumCode2003</th>\n",
       "      <th>UrbanInfluenceCode2003</th>\n",
       "      <th>Metro2013</th>\n",
       "      <th>Nonmetro2013</th>\n",
       "      <th>Micropolitan2013</th>\n",
       "      <th>...</th>\n",
       "      <th>FarmDependent2003</th>\n",
       "      <th>ManufacturingDependent2000</th>\n",
       "      <th>LowEducation2000</th>\n",
       "      <th>RetirementDestination2000</th>\n",
       "      <th>PersistentPoverty2000</th>\n",
       "      <th>Noncore2013</th>\n",
       "      <th>Type_2015_Nonspecialized_NO</th>\n",
       "      <th>Metro_Adjacent2013</th>\n",
       "      <th>PersistentChildPoverty2004</th>\n",
       "      <th>RecreationDependent2000</th>\n",
       "    </tr>\n",
       "  </thead>\n",
       "  <tbody>\n",
       "    <tr>\n",
       "      <th>0</th>\n",
       "      <td>1001</td>\n",
       "      <td>AL</td>\n",
       "      <td>Autauga</td>\n",
       "      <td>2.0</td>\n",
       "      <td>2.0</td>\n",
       "      <td>2.0</td>\n",
       "      <td>2.0</td>\n",
       "      <td>1.0</td>\n",
       "      <td>0.0</td>\n",
       "      <td>0.0</td>\n",
       "      <td>...</td>\n",
       "      <td>0.0</td>\n",
       "      <td>1.0</td>\n",
       "      <td>0.0</td>\n",
       "      <td>0.0</td>\n",
       "      <td>0.0</td>\n",
       "      <td>0.0</td>\n",
       "      <td>1.0</td>\n",
       "      <td>0.0</td>\n",
       "      <td>0.0</td>\n",
       "      <td>0.0</td>\n",
       "    </tr>\n",
       "    <tr>\n",
       "      <th>1</th>\n",
       "      <td>1003</td>\n",
       "      <td>AL</td>\n",
       "      <td>Baldwin</td>\n",
       "      <td>3.0</td>\n",
       "      <td>2.0</td>\n",
       "      <td>4.0</td>\n",
       "      <td>5.0</td>\n",
       "      <td>1.0</td>\n",
       "      <td>0.0</td>\n",
       "      <td>0.0</td>\n",
       "      <td>...</td>\n",
       "      <td>0.0</td>\n",
       "      <td>0.0</td>\n",
       "      <td>0.0</td>\n",
       "      <td>1.0</td>\n",
       "      <td>0.0</td>\n",
       "      <td>0.0</td>\n",
       "      <td>0.0</td>\n",
       "      <td>0.0</td>\n",
       "      <td>0.0</td>\n",
       "      <td>1.0</td>\n",
       "    </tr>\n",
       "    <tr>\n",
       "      <th>2</th>\n",
       "      <td>1005</td>\n",
       "      <td>AL</td>\n",
       "      <td>Barbour</td>\n",
       "      <td>6.0</td>\n",
       "      <td>6.0</td>\n",
       "      <td>6.0</td>\n",
       "      <td>6.0</td>\n",
       "      <td>0.0</td>\n",
       "      <td>1.0</td>\n",
       "      <td>0.0</td>\n",
       "      <td>...</td>\n",
       "      <td>0.0</td>\n",
       "      <td>1.0</td>\n",
       "      <td>1.0</td>\n",
       "      <td>0.0</td>\n",
       "      <td>1.0</td>\n",
       "      <td>1.0</td>\n",
       "      <td>0.0</td>\n",
       "      <td>1.0</td>\n",
       "      <td>1.0</td>\n",
       "      <td>0.0</td>\n",
       "    </tr>\n",
       "    <tr>\n",
       "      <th>3</th>\n",
       "      <td>1007</td>\n",
       "      <td>AL</td>\n",
       "      <td>Bibb</td>\n",
       "      <td>1.0</td>\n",
       "      <td>1.0</td>\n",
       "      <td>1.0</td>\n",
       "      <td>1.0</td>\n",
       "      <td>1.0</td>\n",
       "      <td>0.0</td>\n",
       "      <td>0.0</td>\n",
       "      <td>...</td>\n",
       "      <td>0.0</td>\n",
       "      <td>0.0</td>\n",
       "      <td>1.0</td>\n",
       "      <td>1.0</td>\n",
       "      <td>1.0</td>\n",
       "      <td>0.0</td>\n",
       "      <td>1.0</td>\n",
       "      <td>0.0</td>\n",
       "      <td>1.0</td>\n",
       "      <td>0.0</td>\n",
       "    </tr>\n",
       "    <tr>\n",
       "      <th>4</th>\n",
       "      <td>1009</td>\n",
       "      <td>AL</td>\n",
       "      <td>Blount</td>\n",
       "      <td>1.0</td>\n",
       "      <td>1.0</td>\n",
       "      <td>1.0</td>\n",
       "      <td>1.0</td>\n",
       "      <td>1.0</td>\n",
       "      <td>0.0</td>\n",
       "      <td>0.0</td>\n",
       "      <td>...</td>\n",
       "      <td>0.0</td>\n",
       "      <td>0.0</td>\n",
       "      <td>0.0</td>\n",
       "      <td>1.0</td>\n",
       "      <td>0.0</td>\n",
       "      <td>0.0</td>\n",
       "      <td>1.0</td>\n",
       "      <td>0.0</td>\n",
       "      <td>0.0</td>\n",
       "      <td>0.0</td>\n",
       "    </tr>\n",
       "  </tbody>\n",
       "</table>\n",
       "<p>5 rows × 45 columns</p>\n",
       "</div>"
      ],
      "text/plain": [
       "   FIPStxt State   County  RuralUrbanContinuumCode2013  \\\n",
       "0     1001    AL  Autauga                          2.0   \n",
       "1     1003    AL  Baldwin                          3.0   \n",
       "2     1005    AL  Barbour                          6.0   \n",
       "3     1007    AL     Bibb                          1.0   \n",
       "4     1009    AL   Blount                          1.0   \n",
       "\n",
       "   UrbanInfluenceCode2013  RuralUrbanContinuumCode2003  \\\n",
       "0                     2.0                          2.0   \n",
       "1                     2.0                          4.0   \n",
       "2                     6.0                          6.0   \n",
       "3                     1.0                          1.0   \n",
       "4                     1.0                          1.0   \n",
       "\n",
       "   UrbanInfluenceCode2003  Metro2013  Nonmetro2013  Micropolitan2013  ...  \\\n",
       "0                     2.0        1.0           0.0               0.0  ...   \n",
       "1                     5.0        1.0           0.0               0.0  ...   \n",
       "2                     6.0        0.0           1.0               0.0  ...   \n",
       "3                     1.0        1.0           0.0               0.0  ...   \n",
       "4                     1.0        1.0           0.0               0.0  ...   \n",
       "\n",
       "   FarmDependent2003  ManufacturingDependent2000  LowEducation2000  \\\n",
       "0                0.0                         1.0               0.0   \n",
       "1                0.0                         0.0               0.0   \n",
       "2                0.0                         1.0               1.0   \n",
       "3                0.0                         0.0               1.0   \n",
       "4                0.0                         0.0               0.0   \n",
       "\n",
       "   RetirementDestination2000  PersistentPoverty2000  Noncore2013  \\\n",
       "0                        0.0                    0.0          0.0   \n",
       "1                        1.0                    0.0          0.0   \n",
       "2                        0.0                    1.0          1.0   \n",
       "3                        1.0                    1.0          0.0   \n",
       "4                        1.0                    0.0          0.0   \n",
       "\n",
       "   Type_2015_Nonspecialized_NO  Metro_Adjacent2013  \\\n",
       "0                          1.0                 0.0   \n",
       "1                          0.0                 0.0   \n",
       "2                          0.0                 1.0   \n",
       "3                          1.0                 0.0   \n",
       "4                          1.0                 0.0   \n",
       "\n",
       "   PersistentChildPoverty2004  RecreationDependent2000  \n",
       "0                         0.0                      0.0  \n",
       "1                         0.0                      1.0  \n",
       "2                         1.0                      0.0  \n",
       "3                         1.0                      0.0  \n",
       "4                         0.0                      0.0  \n",
       "\n",
       "[5 rows x 45 columns]"
      ]
     },
     "execution_count": 47,
     "metadata": {},
     "output_type": "execute_result"
    }
   ],
   "source": [
    "countyclass_df.head()"
   ]
  },
  {
   "cell_type": "code",
   "execution_count": 48,
   "metadata": {
    "collapsed": true
   },
   "outputs": [],
   "source": [
    "countyclass_df.to_csv(\"countyclassClean.csv\", encoding=\"utf-8\") "
   ]
  },
  {
   "cell_type": "code",
   "execution_count": 49,
   "metadata": {
    "collapsed": false
   },
   "outputs": [],
   "source": [
    "countyclassClean_df = pd.read_csv(\"countyclassClean.csv\")"
   ]
  },
  {
   "cell_type": "code",
   "execution_count": 50,
   "metadata": {
    "collapsed": false
   },
   "outputs": [
    {
     "data": {
      "text/html": [
       "<div>\n",
       "<style scoped>\n",
       "    .dataframe tbody tr th:only-of-type {\n",
       "        vertical-align: middle;\n",
       "    }\n",
       "\n",
       "    .dataframe tbody tr th {\n",
       "        vertical-align: top;\n",
       "    }\n",
       "\n",
       "    .dataframe thead th {\n",
       "        text-align: right;\n",
       "    }\n",
       "</style>\n",
       "<table border=\"1\" class=\"dataframe\">\n",
       "  <thead>\n",
       "    <tr style=\"text-align: right;\">\n",
       "      <th></th>\n",
       "      <th>Unnamed: 0</th>\n",
       "      <th>FIPStxt</th>\n",
       "      <th>State</th>\n",
       "      <th>County</th>\n",
       "      <th>RuralUrbanContinuumCode2013</th>\n",
       "      <th>UrbanInfluenceCode2013</th>\n",
       "      <th>RuralUrbanContinuumCode2003</th>\n",
       "      <th>UrbanInfluenceCode2003</th>\n",
       "      <th>Metro2013</th>\n",
       "      <th>Nonmetro2013</th>\n",
       "      <th>...</th>\n",
       "      <th>FarmDependent2003</th>\n",
       "      <th>ManufacturingDependent2000</th>\n",
       "      <th>LowEducation2000</th>\n",
       "      <th>RetirementDestination2000</th>\n",
       "      <th>PersistentPoverty2000</th>\n",
       "      <th>Noncore2013</th>\n",
       "      <th>Type_2015_Nonspecialized_NO</th>\n",
       "      <th>Metro_Adjacent2013</th>\n",
       "      <th>PersistentChildPoverty2004</th>\n",
       "      <th>RecreationDependent2000</th>\n",
       "    </tr>\n",
       "  </thead>\n",
       "  <tbody>\n",
       "    <tr>\n",
       "      <th>0</th>\n",
       "      <td>0</td>\n",
       "      <td>1001</td>\n",
       "      <td>AL</td>\n",
       "      <td>Autauga</td>\n",
       "      <td>2.0</td>\n",
       "      <td>2.0</td>\n",
       "      <td>2.0</td>\n",
       "      <td>2.0</td>\n",
       "      <td>1.0</td>\n",
       "      <td>0.0</td>\n",
       "      <td>...</td>\n",
       "      <td>0.0</td>\n",
       "      <td>1.0</td>\n",
       "      <td>0.0</td>\n",
       "      <td>0.0</td>\n",
       "      <td>0.0</td>\n",
       "      <td>0.0</td>\n",
       "      <td>1.0</td>\n",
       "      <td>0.0</td>\n",
       "      <td>0.0</td>\n",
       "      <td>0.0</td>\n",
       "    </tr>\n",
       "    <tr>\n",
       "      <th>1</th>\n",
       "      <td>1</td>\n",
       "      <td>1003</td>\n",
       "      <td>AL</td>\n",
       "      <td>Baldwin</td>\n",
       "      <td>3.0</td>\n",
       "      <td>2.0</td>\n",
       "      <td>4.0</td>\n",
       "      <td>5.0</td>\n",
       "      <td>1.0</td>\n",
       "      <td>0.0</td>\n",
       "      <td>...</td>\n",
       "      <td>0.0</td>\n",
       "      <td>0.0</td>\n",
       "      <td>0.0</td>\n",
       "      <td>1.0</td>\n",
       "      <td>0.0</td>\n",
       "      <td>0.0</td>\n",
       "      <td>0.0</td>\n",
       "      <td>0.0</td>\n",
       "      <td>0.0</td>\n",
       "      <td>1.0</td>\n",
       "    </tr>\n",
       "    <tr>\n",
       "      <th>2</th>\n",
       "      <td>2</td>\n",
       "      <td>1005</td>\n",
       "      <td>AL</td>\n",
       "      <td>Barbour</td>\n",
       "      <td>6.0</td>\n",
       "      <td>6.0</td>\n",
       "      <td>6.0</td>\n",
       "      <td>6.0</td>\n",
       "      <td>0.0</td>\n",
       "      <td>1.0</td>\n",
       "      <td>...</td>\n",
       "      <td>0.0</td>\n",
       "      <td>1.0</td>\n",
       "      <td>1.0</td>\n",
       "      <td>0.0</td>\n",
       "      <td>1.0</td>\n",
       "      <td>1.0</td>\n",
       "      <td>0.0</td>\n",
       "      <td>1.0</td>\n",
       "      <td>1.0</td>\n",
       "      <td>0.0</td>\n",
       "    </tr>\n",
       "    <tr>\n",
       "      <th>3</th>\n",
       "      <td>3</td>\n",
       "      <td>1007</td>\n",
       "      <td>AL</td>\n",
       "      <td>Bibb</td>\n",
       "      <td>1.0</td>\n",
       "      <td>1.0</td>\n",
       "      <td>1.0</td>\n",
       "      <td>1.0</td>\n",
       "      <td>1.0</td>\n",
       "      <td>0.0</td>\n",
       "      <td>...</td>\n",
       "      <td>0.0</td>\n",
       "      <td>0.0</td>\n",
       "      <td>1.0</td>\n",
       "      <td>1.0</td>\n",
       "      <td>1.0</td>\n",
       "      <td>0.0</td>\n",
       "      <td>1.0</td>\n",
       "      <td>0.0</td>\n",
       "      <td>1.0</td>\n",
       "      <td>0.0</td>\n",
       "    </tr>\n",
       "    <tr>\n",
       "      <th>4</th>\n",
       "      <td>4</td>\n",
       "      <td>1009</td>\n",
       "      <td>AL</td>\n",
       "      <td>Blount</td>\n",
       "      <td>1.0</td>\n",
       "      <td>1.0</td>\n",
       "      <td>1.0</td>\n",
       "      <td>1.0</td>\n",
       "      <td>1.0</td>\n",
       "      <td>0.0</td>\n",
       "      <td>...</td>\n",
       "      <td>0.0</td>\n",
       "      <td>0.0</td>\n",
       "      <td>0.0</td>\n",
       "      <td>1.0</td>\n",
       "      <td>0.0</td>\n",
       "      <td>0.0</td>\n",
       "      <td>1.0</td>\n",
       "      <td>0.0</td>\n",
       "      <td>0.0</td>\n",
       "      <td>0.0</td>\n",
       "    </tr>\n",
       "  </tbody>\n",
       "</table>\n",
       "<p>5 rows × 46 columns</p>\n",
       "</div>"
      ],
      "text/plain": [
       "   Unnamed: 0  FIPStxt State   County  RuralUrbanContinuumCode2013  \\\n",
       "0           0     1001    AL  Autauga                          2.0   \n",
       "1           1     1003    AL  Baldwin                          3.0   \n",
       "2           2     1005    AL  Barbour                          6.0   \n",
       "3           3     1007    AL     Bibb                          1.0   \n",
       "4           4     1009    AL   Blount                          1.0   \n",
       "\n",
       "   UrbanInfluenceCode2013  RuralUrbanContinuumCode2003  \\\n",
       "0                     2.0                          2.0   \n",
       "1                     2.0                          4.0   \n",
       "2                     6.0                          6.0   \n",
       "3                     1.0                          1.0   \n",
       "4                     1.0                          1.0   \n",
       "\n",
       "   UrbanInfluenceCode2003  Metro2013  Nonmetro2013  ...  FarmDependent2003  \\\n",
       "0                     2.0        1.0           0.0  ...                0.0   \n",
       "1                     5.0        1.0           0.0  ...                0.0   \n",
       "2                     6.0        0.0           1.0  ...                0.0   \n",
       "3                     1.0        1.0           0.0  ...                0.0   \n",
       "4                     1.0        1.0           0.0  ...                0.0   \n",
       "\n",
       "   ManufacturingDependent2000  LowEducation2000  RetirementDestination2000  \\\n",
       "0                         1.0               0.0                        0.0   \n",
       "1                         0.0               0.0                        1.0   \n",
       "2                         1.0               1.0                        0.0   \n",
       "3                         0.0               1.0                        1.0   \n",
       "4                         0.0               0.0                        1.0   \n",
       "\n",
       "   PersistentPoverty2000  Noncore2013  Type_2015_Nonspecialized_NO  \\\n",
       "0                    0.0          0.0                          1.0   \n",
       "1                    0.0          0.0                          0.0   \n",
       "2                    1.0          1.0                          0.0   \n",
       "3                    1.0          0.0                          1.0   \n",
       "4                    0.0          0.0                          1.0   \n",
       "\n",
       "   Metro_Adjacent2013  PersistentChildPoverty2004  RecreationDependent2000  \n",
       "0                 0.0                         0.0                      0.0  \n",
       "1                 0.0                         0.0                      1.0  \n",
       "2                 1.0                         1.0                      0.0  \n",
       "3                 0.0                         1.0                      0.0  \n",
       "4                 0.0                         0.0                      0.0  \n",
       "\n",
       "[5 rows x 46 columns]"
      ]
     },
     "execution_count": 50,
     "metadata": {},
     "output_type": "execute_result"
    }
   ],
   "source": [
    "countyclassClean_df.head()"
   ]
  },
  {
   "cell_type": "code",
   "execution_count": 51,
   "metadata": {
    "collapsed": false
   },
   "outputs": [],
   "source": [
    "rStates = ['PR','AK','HI']\n",
    "countypres2016_df = countypres_df[countypres_df.year.eq(2016) & countypres_df.party.eq('DEMOCRAT') & ~countypres_df.state_po.isin(rStates) & ~countypres_df.totalvotes.eq(0)]\n"
   ]
  },
  {
   "cell_type": "code",
   "execution_count": 52,
   "metadata": {
    "collapsed": false
   },
   "outputs": [
    {
     "data": {
      "text/plain": [
       "3113"
      ]
     },
     "execution_count": 52,
     "metadata": {},
     "output_type": "execute_result"
    }
   ],
   "source": [
    "len(countypres2016_df.index)"
   ]
  },
  {
   "cell_type": "code",
   "execution_count": 53,
   "metadata": {
    "collapsed": false
   },
   "outputs": [
    {
     "data": {
      "text/plain": [
       "40517    0.237697\n",
       "40520    0.193856\n",
       "40523    0.465278\n",
       "40526    0.212496\n",
       "40529    0.084258\n",
       "           ...   \n",
       "49856    0.084799\n",
       "49859         NaN\n",
       "49860    0.596717\n",
       "49861    0.125989\n",
       "50521    0.054193\n",
       "Length: 3113, dtype: float64"
      ]
     },
     "execution_count": 53,
     "metadata": {},
     "output_type": "execute_result"
    }
   ],
   "source": [
    "def percentage_dem(row):\n",
    "    return(row['candidatevotes']/row['totalvotes'])\n",
    "\n",
    "countypres2016_df.apply(lambda row: percentage_dem(row), axis=1)"
   ]
  },
  {
   "cell_type": "code",
   "execution_count": 54,
   "metadata": {
    "collapsed": false
   },
   "outputs": [],
   "source": [
    "percentSeries = countypres2016_df.apply(lambda row: percentage_dem(row), axis=1)\n",
    "\n",
    "countypres2016_df = countypres2016_df.assign(percentageVotedDemocrat=percentSeries.values) "
   ]
  },
  {
   "cell_type": "code",
   "execution_count": 55,
   "metadata": {
    "collapsed": false
   },
   "outputs": [
    {
     "data": {
      "text/plain": [
       "3112"
      ]
     },
     "execution_count": 55,
     "metadata": {},
     "output_type": "execute_result"
    }
   ],
   "source": [
    "len(countypres2016_df[countypres2016_df['percentageVotedDemocrat'].notna()])\n"
   ]
  },
  {
   "cell_type": "code",
   "execution_count": 56,
   "metadata": {
    "collapsed": true
   },
   "outputs": [],
   "source": [
    "countypres2016_df = countypres2016_df[countypres2016_df['percentageVotedDemocrat'].notna()]\n"
   ]
  },
  {
   "cell_type": "code",
   "execution_count": 57,
   "metadata": {
    "collapsed": false
   },
   "outputs": [
    {
     "data": {
      "text/html": [
       "<div>\n",
       "<style scoped>\n",
       "    .dataframe tbody tr th:only-of-type {\n",
       "        vertical-align: middle;\n",
       "    }\n",
       "\n",
       "    .dataframe tbody tr th {\n",
       "        vertical-align: top;\n",
       "    }\n",
       "\n",
       "    .dataframe thead th {\n",
       "        text-align: right;\n",
       "    }\n",
       "</style>\n",
       "<table border=\"1\" class=\"dataframe\">\n",
       "  <thead>\n",
       "    <tr style=\"text-align: right;\">\n",
       "      <th></th>\n",
       "      <th>year</th>\n",
       "      <th>state</th>\n",
       "      <th>state_po</th>\n",
       "      <th>county_name</th>\n",
       "      <th>county_fips</th>\n",
       "      <th>office</th>\n",
       "      <th>candidate</th>\n",
       "      <th>party</th>\n",
       "      <th>candidatevotes</th>\n",
       "      <th>totalvotes</th>\n",
       "      <th>version</th>\n",
       "      <th>mode</th>\n",
       "      <th>percentageVotedDemocrat</th>\n",
       "    </tr>\n",
       "  </thead>\n",
       "  <tbody>\n",
       "    <tr>\n",
       "      <th>40517</th>\n",
       "      <td>2016</td>\n",
       "      <td>ALABAMA</td>\n",
       "      <td>AL</td>\n",
       "      <td>AUTAUGA</td>\n",
       "      <td>1001.0</td>\n",
       "      <td>PRESIDENT</td>\n",
       "      <td>HILLARY CLINTON</td>\n",
       "      <td>DEMOCRAT</td>\n",
       "      <td>5936.0</td>\n",
       "      <td>24973.0</td>\n",
       "      <td>20191203</td>\n",
       "      <td>TOTAL</td>\n",
       "      <td>0.237697</td>\n",
       "    </tr>\n",
       "    <tr>\n",
       "      <th>40520</th>\n",
       "      <td>2016</td>\n",
       "      <td>ALABAMA</td>\n",
       "      <td>AL</td>\n",
       "      <td>BALDWIN</td>\n",
       "      <td>1003.0</td>\n",
       "      <td>PRESIDENT</td>\n",
       "      <td>HILLARY CLINTON</td>\n",
       "      <td>DEMOCRAT</td>\n",
       "      <td>18458.0</td>\n",
       "      <td>95215.0</td>\n",
       "      <td>20191203</td>\n",
       "      <td>TOTAL</td>\n",
       "      <td>0.193856</td>\n",
       "    </tr>\n",
       "    <tr>\n",
       "      <th>40523</th>\n",
       "      <td>2016</td>\n",
       "      <td>ALABAMA</td>\n",
       "      <td>AL</td>\n",
       "      <td>BARBOUR</td>\n",
       "      <td>1005.0</td>\n",
       "      <td>PRESIDENT</td>\n",
       "      <td>HILLARY CLINTON</td>\n",
       "      <td>DEMOCRAT</td>\n",
       "      <td>4871.0</td>\n",
       "      <td>10469.0</td>\n",
       "      <td>20191203</td>\n",
       "      <td>TOTAL</td>\n",
       "      <td>0.465278</td>\n",
       "    </tr>\n",
       "    <tr>\n",
       "      <th>40526</th>\n",
       "      <td>2016</td>\n",
       "      <td>ALABAMA</td>\n",
       "      <td>AL</td>\n",
       "      <td>BIBB</td>\n",
       "      <td>1007.0</td>\n",
       "      <td>PRESIDENT</td>\n",
       "      <td>HILLARY CLINTON</td>\n",
       "      <td>DEMOCRAT</td>\n",
       "      <td>1874.0</td>\n",
       "      <td>8819.0</td>\n",
       "      <td>20191203</td>\n",
       "      <td>TOTAL</td>\n",
       "      <td>0.212496</td>\n",
       "    </tr>\n",
       "    <tr>\n",
       "      <th>40529</th>\n",
       "      <td>2016</td>\n",
       "      <td>ALABAMA</td>\n",
       "      <td>AL</td>\n",
       "      <td>BLOUNT</td>\n",
       "      <td>1009.0</td>\n",
       "      <td>PRESIDENT</td>\n",
       "      <td>HILLARY CLINTON</td>\n",
       "      <td>DEMOCRAT</td>\n",
       "      <td>2156.0</td>\n",
       "      <td>25588.0</td>\n",
       "      <td>20191203</td>\n",
       "      <td>TOTAL</td>\n",
       "      <td>0.084258</td>\n",
       "    </tr>\n",
       "  </tbody>\n",
       "</table>\n",
       "</div>"
      ],
      "text/plain": [
       "       year    state state_po county_name  county_fips     office  \\\n",
       "40517  2016  ALABAMA       AL     AUTAUGA       1001.0  PRESIDENT   \n",
       "40520  2016  ALABAMA       AL     BALDWIN       1003.0  PRESIDENT   \n",
       "40523  2016  ALABAMA       AL     BARBOUR       1005.0  PRESIDENT   \n",
       "40526  2016  ALABAMA       AL        BIBB       1007.0  PRESIDENT   \n",
       "40529  2016  ALABAMA       AL      BLOUNT       1009.0  PRESIDENT   \n",
       "\n",
       "             candidate     party  candidatevotes  totalvotes   version   mode  \\\n",
       "40517  HILLARY CLINTON  DEMOCRAT          5936.0     24973.0  20191203  TOTAL   \n",
       "40520  HILLARY CLINTON  DEMOCRAT         18458.0     95215.0  20191203  TOTAL   \n",
       "40523  HILLARY CLINTON  DEMOCRAT          4871.0     10469.0  20191203  TOTAL   \n",
       "40526  HILLARY CLINTON  DEMOCRAT          1874.0      8819.0  20191203  TOTAL   \n",
       "40529  HILLARY CLINTON  DEMOCRAT          2156.0     25588.0  20191203  TOTAL   \n",
       "\n",
       "       percentageVotedDemocrat  \n",
       "40517                 0.237697  \n",
       "40520                 0.193856  \n",
       "40523                 0.465278  \n",
       "40526                 0.212496  \n",
       "40529                 0.084258  "
      ]
     },
     "execution_count": 57,
     "metadata": {},
     "output_type": "execute_result"
    }
   ],
   "source": [
    "countypres2016_df.head()"
   ]
  },
  {
   "cell_type": "code",
   "execution_count": 61,
   "metadata": {
    "collapsed": false
   },
   "outputs": [
    {
     "data": {
      "text/plain": [
       "3110"
      ]
     },
     "execution_count": 61,
     "metadata": {},
     "output_type": "execute_result"
    }
   ],
   "source": [
    "countypres2016_df = countypres2016_df[countypres2016_df['county_fips'].notna()]\n",
    "\n",
    "countypres2016_df = countypres2016_df.astype({\"county_fips\": int})\n",
    "len(countypres2016_df)"
   ]
  },
  {
   "cell_type": "code",
   "execution_count": 64,
   "metadata": {
    "collapsed": false
   },
   "outputs": [
    {
     "data": {
      "text/plain": [
       "3110"
      ]
     },
     "execution_count": 64,
     "metadata": {},
     "output_type": "execute_result"
    }
   ],
   "source": [
    "rdf = pd.merge(countypres2016_df, countyclassClean_df, left_on='county_fips',right_on='FIPStxt', how=\"left\")\n",
    "len(result)\n"
   ]
  },
  {
   "cell_type": "code",
   "execution_count": 65,
   "metadata": {
    "collapsed": false
   },
   "outputs": [
    {
     "data": {
      "text/html": [
       "<div>\n",
       "<style scoped>\n",
       "    .dataframe tbody tr th:only-of-type {\n",
       "        vertical-align: middle;\n",
       "    }\n",
       "\n",
       "    .dataframe tbody tr th {\n",
       "        vertical-align: top;\n",
       "    }\n",
       "\n",
       "    .dataframe thead th {\n",
       "        text-align: right;\n",
       "    }\n",
       "</style>\n",
       "<table border=\"1\" class=\"dataframe\">\n",
       "  <thead>\n",
       "    <tr style=\"text-align: right;\">\n",
       "      <th></th>\n",
       "      <th>year</th>\n",
       "      <th>state</th>\n",
       "      <th>state_po</th>\n",
       "      <th>county_name</th>\n",
       "      <th>county_fips</th>\n",
       "      <th>office</th>\n",
       "      <th>candidate</th>\n",
       "      <th>party</th>\n",
       "      <th>candidatevotes</th>\n",
       "      <th>totalvotes</th>\n",
       "      <th>...</th>\n",
       "      <th>FarmDependent2003</th>\n",
       "      <th>ManufacturingDependent2000</th>\n",
       "      <th>LowEducation2000</th>\n",
       "      <th>RetirementDestination2000</th>\n",
       "      <th>PersistentPoverty2000</th>\n",
       "      <th>Noncore2013</th>\n",
       "      <th>Type_2015_Nonspecialized_NO</th>\n",
       "      <th>Metro_Adjacent2013</th>\n",
       "      <th>PersistentChildPoverty2004</th>\n",
       "      <th>RecreationDependent2000</th>\n",
       "    </tr>\n",
       "  </thead>\n",
       "  <tbody>\n",
       "    <tr>\n",
       "      <th>0</th>\n",
       "      <td>2016</td>\n",
       "      <td>ALABAMA</td>\n",
       "      <td>AL</td>\n",
       "      <td>AUTAUGA</td>\n",
       "      <td>1001</td>\n",
       "      <td>PRESIDENT</td>\n",
       "      <td>HILLARY CLINTON</td>\n",
       "      <td>DEMOCRAT</td>\n",
       "      <td>5936.0</td>\n",
       "      <td>24973.0</td>\n",
       "      <td>...</td>\n",
       "      <td>0.0</td>\n",
       "      <td>1.0</td>\n",
       "      <td>0.0</td>\n",
       "      <td>0.0</td>\n",
       "      <td>0.0</td>\n",
       "      <td>0.0</td>\n",
       "      <td>1.0</td>\n",
       "      <td>0.0</td>\n",
       "      <td>0.0</td>\n",
       "      <td>0.0</td>\n",
       "    </tr>\n",
       "    <tr>\n",
       "      <th>1</th>\n",
       "      <td>2016</td>\n",
       "      <td>ALABAMA</td>\n",
       "      <td>AL</td>\n",
       "      <td>BALDWIN</td>\n",
       "      <td>1003</td>\n",
       "      <td>PRESIDENT</td>\n",
       "      <td>HILLARY CLINTON</td>\n",
       "      <td>DEMOCRAT</td>\n",
       "      <td>18458.0</td>\n",
       "      <td>95215.0</td>\n",
       "      <td>...</td>\n",
       "      <td>0.0</td>\n",
       "      <td>0.0</td>\n",
       "      <td>0.0</td>\n",
       "      <td>1.0</td>\n",
       "      <td>0.0</td>\n",
       "      <td>0.0</td>\n",
       "      <td>0.0</td>\n",
       "      <td>0.0</td>\n",
       "      <td>0.0</td>\n",
       "      <td>1.0</td>\n",
       "    </tr>\n",
       "    <tr>\n",
       "      <th>2</th>\n",
       "      <td>2016</td>\n",
       "      <td>ALABAMA</td>\n",
       "      <td>AL</td>\n",
       "      <td>BARBOUR</td>\n",
       "      <td>1005</td>\n",
       "      <td>PRESIDENT</td>\n",
       "      <td>HILLARY CLINTON</td>\n",
       "      <td>DEMOCRAT</td>\n",
       "      <td>4871.0</td>\n",
       "      <td>10469.0</td>\n",
       "      <td>...</td>\n",
       "      <td>0.0</td>\n",
       "      <td>1.0</td>\n",
       "      <td>1.0</td>\n",
       "      <td>0.0</td>\n",
       "      <td>1.0</td>\n",
       "      <td>1.0</td>\n",
       "      <td>0.0</td>\n",
       "      <td>1.0</td>\n",
       "      <td>1.0</td>\n",
       "      <td>0.0</td>\n",
       "    </tr>\n",
       "    <tr>\n",
       "      <th>3</th>\n",
       "      <td>2016</td>\n",
       "      <td>ALABAMA</td>\n",
       "      <td>AL</td>\n",
       "      <td>BIBB</td>\n",
       "      <td>1007</td>\n",
       "      <td>PRESIDENT</td>\n",
       "      <td>HILLARY CLINTON</td>\n",
       "      <td>DEMOCRAT</td>\n",
       "      <td>1874.0</td>\n",
       "      <td>8819.0</td>\n",
       "      <td>...</td>\n",
       "      <td>0.0</td>\n",
       "      <td>0.0</td>\n",
       "      <td>1.0</td>\n",
       "      <td>1.0</td>\n",
       "      <td>1.0</td>\n",
       "      <td>0.0</td>\n",
       "      <td>1.0</td>\n",
       "      <td>0.0</td>\n",
       "      <td>1.0</td>\n",
       "      <td>0.0</td>\n",
       "    </tr>\n",
       "    <tr>\n",
       "      <th>4</th>\n",
       "      <td>2016</td>\n",
       "      <td>ALABAMA</td>\n",
       "      <td>AL</td>\n",
       "      <td>BLOUNT</td>\n",
       "      <td>1009</td>\n",
       "      <td>PRESIDENT</td>\n",
       "      <td>HILLARY CLINTON</td>\n",
       "      <td>DEMOCRAT</td>\n",
       "      <td>2156.0</td>\n",
       "      <td>25588.0</td>\n",
       "      <td>...</td>\n",
       "      <td>0.0</td>\n",
       "      <td>0.0</td>\n",
       "      <td>0.0</td>\n",
       "      <td>1.0</td>\n",
       "      <td>0.0</td>\n",
       "      <td>0.0</td>\n",
       "      <td>1.0</td>\n",
       "      <td>0.0</td>\n",
       "      <td>0.0</td>\n",
       "      <td>0.0</td>\n",
       "    </tr>\n",
       "  </tbody>\n",
       "</table>\n",
       "<p>5 rows × 59 columns</p>\n",
       "</div>"
      ],
      "text/plain": [
       "   year    state state_po county_name  county_fips     office  \\\n",
       "0  2016  ALABAMA       AL     AUTAUGA         1001  PRESIDENT   \n",
       "1  2016  ALABAMA       AL     BALDWIN         1003  PRESIDENT   \n",
       "2  2016  ALABAMA       AL     BARBOUR         1005  PRESIDENT   \n",
       "3  2016  ALABAMA       AL        BIBB         1007  PRESIDENT   \n",
       "4  2016  ALABAMA       AL      BLOUNT         1009  PRESIDENT   \n",
       "\n",
       "         candidate     party  candidatevotes  totalvotes  ...  \\\n",
       "0  HILLARY CLINTON  DEMOCRAT          5936.0     24973.0  ...   \n",
       "1  HILLARY CLINTON  DEMOCRAT         18458.0     95215.0  ...   \n",
       "2  HILLARY CLINTON  DEMOCRAT          4871.0     10469.0  ...   \n",
       "3  HILLARY CLINTON  DEMOCRAT          1874.0      8819.0  ...   \n",
       "4  HILLARY CLINTON  DEMOCRAT          2156.0     25588.0  ...   \n",
       "\n",
       "   FarmDependent2003 ManufacturingDependent2000  LowEducation2000  \\\n",
       "0                0.0                        1.0               0.0   \n",
       "1                0.0                        0.0               0.0   \n",
       "2                0.0                        1.0               1.0   \n",
       "3                0.0                        0.0               1.0   \n",
       "4                0.0                        0.0               0.0   \n",
       "\n",
       "   RetirementDestination2000  PersistentPoverty2000 Noncore2013  \\\n",
       "0                        0.0                    0.0         0.0   \n",
       "1                        1.0                    0.0         0.0   \n",
       "2                        0.0                    1.0         1.0   \n",
       "3                        1.0                    1.0         0.0   \n",
       "4                        1.0                    0.0         0.0   \n",
       "\n",
       "  Type_2015_Nonspecialized_NO  Metro_Adjacent2013  PersistentChildPoverty2004  \\\n",
       "0                         1.0                 0.0                         0.0   \n",
       "1                         0.0                 0.0                         0.0   \n",
       "2                         0.0                 1.0                         1.0   \n",
       "3                         1.0                 0.0                         1.0   \n",
       "4                         1.0                 0.0                         0.0   \n",
       "\n",
       "   RecreationDependent2000  \n",
       "0                      0.0  \n",
       "1                      1.0  \n",
       "2                      0.0  \n",
       "3                      0.0  \n",
       "4                      0.0  \n",
       "\n",
       "[5 rows x 59 columns]"
      ]
     },
     "execution_count": 65,
     "metadata": {},
     "output_type": "execute_result"
    }
   ],
   "source": [
    "rdf.head()"
   ]
  },
  {
   "cell_type": "code",
   "execution_count": 88,
   "metadata": {
    "collapsed": false
   },
   "outputs": [
    {
     "data": {
      "text/plain": [
       "<AxesSubplot:xlabel='RuralUrbanContinuumCode2013', ylabel='percentageVotedDemocrat'>"
      ]
     },
     "execution_count": 88,
     "metadata": {},
     "output_type": "execute_result"
    },
    {
     "data": {
      "image/png": "[encoded data removed]",
      "text/plain": [
       "<Figure size 432x288 with 1 Axes>"
      ]
     },
     "metadata": {
      "needs_background": "light"
     },
     "output_type": "display_data"
    }
   ],
   "source": [
    "rdf.plot.scatter('RuralUrbanContinuumCode2013','percentageVotedDemocrat')"
   ]
  },
  {
   "cell_type": "code",
   "execution_count": 73,
   "metadata": {
    "collapsed": false
   },
   "outputs": [
    {
     "data": {
      "text/plain": [
       "<AxesSubplot:xlabel='RuralUrbanContinuumCode2013', ylabel='percentageVotedDemocrat'>"
      ]
     },
     "execution_count": 73,
     "metadata": {},
     "output_type": "execute_result"
    },
    {
     "data": {
      "image/png": "[encoded data removed]",
      "text/plain": [
       "<Figure size 432x288 with 1 Axes>"
      ]
     },
     "metadata": {
      "needs_background": "light"
     },
     "output_type": "display_data"
    }
   ],
   "source": [
    "rdf.plot.scatter('RuralUrbanContinuumCode2013','percentageVotedDemocrat',alpha=0.05)"
   ]
  },
  {
   "cell_type": "code",
   "execution_count": 87,
   "metadata": {
    "collapsed": false
   },
   "outputs": [
    {
     "data": {
      "text/plain": [
       "<AxesSubplot:xlabel='RuralUrbanContinuumCode2013', ylabel='percentageVotedDemocrat'>"
      ]
     },
     "execution_count": 87,
     "metadata": {},
     "output_type": "execute_result"
    },
    {
     "data": {
      "image/png": "[encoded data removed]",
      "text/plain": [
       "<Figure size 432x288 with 1 Axes>"
      ]
     },
     "metadata": {
      "needs_background": "light"
     },
     "output_type": "display_data"
    }
   ],
   "source": [
    "rdf.plot.scatter('RuralUrbanContinuumCode2013','percentageVotedDemocrat',alpha=0.05,s=rdf.totalvotes/(max(rdf.totalvotes)/1000))\n",
    "                 "
   ]
  },
  {
   "cell_type": "code",
   "execution_count": 70,
   "metadata": {
    "collapsed": false
   },
   "outputs": [
    {
     "data": {
      "text/plain": [
       "<AxesSubplot:xlabel='RuralUrbanContinuumCode2013', ylabel='percentageVotedDemocrat'>"
      ]
     },
     "execution_count": 70,
     "metadata": {},
     "output_type": "execute_result"
    },
    {
     "data": {
      "image/png": "[encoded data removed]",
      "text/plain": [
       "<Figure size 432x288 with 1 Axes>"
      ]
     },
     "metadata": {
      "needs_background": "light"
     },
     "output_type": "display_data"
    }
   ],
   "source": [
    "sns.scatterplot(x=\"RuralUrbanContinuumCode2013\", y=\"percentageVotedDemocrat\", data=rdf)\n"
   ]
  },
  {
   "cell_type": "code",
   "execution_count": 76,
   "metadata": {
    "collapsed": false
   },
   "outputs": [
    {
     "data": {
      "image/png": "[encoded data removed]",
      "text/plain": [
       "<Figure size 432x288 with 1 Axes>"
      ]
     },
     "metadata": {
      "needs_background": "light"
     },
     "output_type": "display_data"
    }
   ],
   "source": [
    "sns.stripplot(x='RuralUrbanContinuumCode2013', y='percentageVotedDemocrat', data=rdf, jitter=True, alpha=0.05)\n",
    "sns.despine()"
   ]
  },
  {
   "cell_type": "code",
   "execution_count": 77,
   "metadata": {
    "collapsed": false,
    "scrolled": true
   },
   "outputs": [
    {
     "data": {
      "text/plain": [
       "<AxesSubplot:xlabel='RuralUrbanContinuumCode2013', ylabel='percentageVotedDemocrat'>"
      ]
     },
     "execution_count": 77,
     "metadata": {},
     "output_type": "execute_result"
    },
    {
     "data": {
      "image/png": "[encoded data removed]",
      "text/plain": [
       "<Figure size 432x288 with 1 Axes>"
      ]
     },
     "metadata": {
      "needs_background": "light"
     },
     "output_type": "display_data"
    }
   ],
   "source": [
    "sns.violinplot(x='RuralUrbanContinuumCode2013', y='percentageVotedDemocrat', data=rdf)\n"
   ]
  },
  {
   "cell_type": "code",
   "execution_count": 80,
   "metadata": {
    "collapsed": false
   },
   "outputs": [
    {
     "data": {
      "text/plain": [
       "3434308.0"
      ]
     },
     "execution_count": 80,
     "metadata": {},
     "output_type": "execute_result"
    }
   ],
   "source": [
    "max(rdf.totalvotes)"
   ]
  },
  {
   "cell_type": "code",
   "execution_count": 90,
   "metadata": {
    "collapsed": true
   },
   "outputs": [],
   "source": [
    "\n",
    "def candidateVotesRuralHelper(row):\n",
    "    if row['RuralUrbanContinuumCode2013'] > 3:\n",
    "        v = row['candidatevotes']\n",
    "    else:    \n",
    "        v = 0\n",
    "    return(v)\n",
    "\n",
    "def totalVotesRuralHelper(row):\n",
    "    if row['RuralUrbanContinuumCode2013'] > 3:\n",
    "        v = row['totalvotes']\n",
    "    else:    \n",
    "        v = 0\n",
    "    return(v)\n",
    "\n",
    "\n",
    "smallCVotesSeries = rdf.apply(lambda row: candidateVotesRuralHelper(row), axis=1)\n",
    "smallTVotesSeries = rdf.apply(lambda row: totalVotesRuralHelper(row), axis=1)\n",
    "\n",
    "rdf = rdf.assign(smallMetroOrSmallerCandidateVotes=smallCVotesSeries.values) \n",
    "rdf = rdf.assign(smallMetroOrSmallerTotalVotes=smallTVotesSeries.values) "
   ]
  },
  {
   "cell_type": "code",
   "execution_count": 91,
   "metadata": {
    "collapsed": true
   },
   "outputs": [],
   "source": [
    "stateGroupby = rdf.groupby(['state'])"
   ]
  },
  {
   "cell_type": "code",
   "execution_count": 93,
   "metadata": {
    "collapsed": false,
    "scrolled": true
   },
   "outputs": [
    {
     "data": {
      "text/plain": [
       "50"
      ]
     },
     "execution_count": 93,
     "metadata": {},
     "output_type": "execute_result"
    }
   ],
   "source": [
    "stateGroupby.ngroups"
   ]
  },
  {
   "cell_type": "code",
   "execution_count": 94,
   "metadata": {
    "collapsed": false,
    "scrolled": true
   },
   "outputs": [
    {
     "data": {
      "text/plain": [
       "state\n",
       "ALABAMA                  729547.0\n",
       "ALASKA                      274.0\n",
       "ARIZONA                 1161167.0\n",
       "ARKANSAS                 380494.0\n",
       "CALIFORNIA              8753788.0\n",
       "COLORADO                1338870.0\n",
       "CONNECTICUT              897572.0\n",
       "DELAWARE                 235603.0\n",
       "DISTRICT OF COLUMBIA     282830.0\n",
       "FLORIDA                 4504975.0\n",
       "GEORGIA                 1877963.0\n",
       "IDAHO                    189765.0\n",
       "ILLINOIS                3090729.0\n",
       "INDIANA                 1033126.0\n",
       "IOWA                     653669.0\n",
       "KANSAS                   427005.0\n",
       "KENTUCKY                 628854.0\n",
       "LOUISIANA                780154.0\n",
       "MAINE                    354718.0\n",
       "MARYLAND                1677928.0\n",
       "MASSACHUSETTS           1995196.0\n",
       "MICHIGAN                2268839.0\n",
       "MINNESOTA               1367716.0\n",
       "MISSISSIPPI              485131.0\n",
       "MISSOURI                1071068.0\n",
       "MONTANA                  177709.0\n",
       "NEBRASKA                 284494.0\n",
       "NEVADA                   539260.0\n",
       "NEW HAMPSHIRE            348526.0\n",
       "NEW JERSEY              2148278.0\n",
       "NEW MEXICO               385234.0\n",
       "NEW YORK                4547562.0\n",
       "NORTH CAROLINA          2189316.0\n",
       "NORTH DAKOTA              93758.0\n",
       "OHIO                    2394164.0\n",
       "OKLAHOMA                 420375.0\n",
       "OREGON                  1002106.0\n",
       "PENNSYLVANIA            2926441.0\n",
       "RHODE ISLAND             251888.0\n",
       "SOUTH CAROLINA           855373.0\n",
       "SOUTH DAKOTA             117458.0\n",
       "TENNESSEE                870695.0\n",
       "TEXAS                   3877868.0\n",
       "UTAH                     310676.0\n",
       "VERMONT                  178573.0\n",
       "VIRGINIA                1981473.0\n",
       "WASHINGTON              1742718.0\n",
       "WEST VIRGINIA            188794.0\n",
       "WISCONSIN               1381823.0\n",
       "WYOMING                   55973.0\n",
       "Name: candidatevotes, dtype: float64"
      ]
     },
     "execution_count": 94,
     "metadata": {},
     "output_type": "execute_result"
    }
   ],
   "source": [
    "\n",
    " \n",
    "stateGroupby.candidatevotes.sum()"
   ]
  },
  {
   "cell_type": "code",
   "execution_count": 101,
   "metadata": {
    "collapsed": false
   },
   "outputs": [
    {
     "data": {
      "text/plain": [
       "3110"
      ]
     },
     "execution_count": 101,
     "metadata": {},
     "output_type": "execute_result"
    }
   ],
   "source": [
    "len(rdf.groupby('state')['totalvotes'].transform('sum'))"
   ]
  },
  {
   "cell_type": "code",
   "execution_count": 99,
   "metadata": {
    "collapsed": false
   },
   "outputs": [],
   "source": [
    "rdf['stateTotalVotes'] = rdf.groupby('state')['totalvotes'].transform('sum')\n",
    "rdf['stateCandidateVotes'] = rdf.groupby('state')['candidatevotes'].transform('sum')\n",
    "rdf['totalvotesInRuralCountiesOfState'] = rdf.groupby('state')['smallMetroOrSmallerTotalVotes'].transform('sum')\n",
    "rdf['candidatevotesInRuralCountiesOfState'] = rdf.groupby('state')['smallMetroOrSmallerCandidateVotes'].transform('sum')\n"
   ]
  },
  {
   "cell_type": "code",
   "execution_count": 100,
   "metadata": {
    "collapsed": false
   },
   "outputs": [
    {
     "data": {
      "text/html": [
       "<div>\n",
       "<style scoped>\n",
       "    .dataframe tbody tr th:only-of-type {\n",
       "        vertical-align: middle;\n",
       "    }\n",
       "\n",
       "    .dataframe tbody tr th {\n",
       "        vertical-align: top;\n",
       "    }\n",
       "\n",
       "    .dataframe thead th {\n",
       "        text-align: right;\n",
       "    }\n",
       "</style>\n",
       "<table border=\"1\" class=\"dataframe\">\n",
       "  <thead>\n",
       "    <tr style=\"text-align: right;\">\n",
       "      <th></th>\n",
       "      <th>year</th>\n",
       "      <th>state</th>\n",
       "      <th>state_po</th>\n",
       "      <th>county_name</th>\n",
       "      <th>county_fips</th>\n",
       "      <th>office</th>\n",
       "      <th>candidate</th>\n",
       "      <th>party</th>\n",
       "      <th>candidatevotes</th>\n",
       "      <th>totalvotes</th>\n",
       "      <th>...</th>\n",
       "      <th>Type_2015_Nonspecialized_NO</th>\n",
       "      <th>Metro_Adjacent2013</th>\n",
       "      <th>PersistentChildPoverty2004</th>\n",
       "      <th>RecreationDependent2000</th>\n",
       "      <th>smallMetroOrSmallerCandidateVotes</th>\n",
       "      <th>smallMetroOrSmallerTotalVotes</th>\n",
       "      <th>stateTotalVotes</th>\n",
       "      <th>stateCandidateVotes</th>\n",
       "      <th>totalvotesInRuralCountiesOfState</th>\n",
       "      <th>candidatevotesInRuralCountiesOfState</th>\n",
       "    </tr>\n",
       "  </thead>\n",
       "  <tbody>\n",
       "    <tr>\n",
       "      <th>0</th>\n",
       "      <td>2016</td>\n",
       "      <td>ALABAMA</td>\n",
       "      <td>AL</td>\n",
       "      <td>AUTAUGA</td>\n",
       "      <td>1001</td>\n",
       "      <td>PRESIDENT</td>\n",
       "      <td>HILLARY CLINTON</td>\n",
       "      <td>DEMOCRAT</td>\n",
       "      <td>5936.0</td>\n",
       "      <td>24973.0</td>\n",
       "      <td>...</td>\n",
       "      <td>1.0</td>\n",
       "      <td>0.0</td>\n",
       "      <td>0.0</td>\n",
       "      <td>0.0</td>\n",
       "      <td>0.0</td>\n",
       "      <td>0.0</td>\n",
       "      <td>2123367.0</td>\n",
       "      <td>729547.0</td>\n",
       "      <td>497705.0</td>\n",
       "      <td>149930.0</td>\n",
       "    </tr>\n",
       "    <tr>\n",
       "      <th>1</th>\n",
       "      <td>2016</td>\n",
       "      <td>ALABAMA</td>\n",
       "      <td>AL</td>\n",
       "      <td>BALDWIN</td>\n",
       "      <td>1003</td>\n",
       "      <td>PRESIDENT</td>\n",
       "      <td>HILLARY CLINTON</td>\n",
       "      <td>DEMOCRAT</td>\n",
       "      <td>18458.0</td>\n",
       "      <td>95215.0</td>\n",
       "      <td>...</td>\n",
       "      <td>0.0</td>\n",
       "      <td>0.0</td>\n",
       "      <td>0.0</td>\n",
       "      <td>1.0</td>\n",
       "      <td>0.0</td>\n",
       "      <td>0.0</td>\n",
       "      <td>2123367.0</td>\n",
       "      <td>729547.0</td>\n",
       "      <td>497705.0</td>\n",
       "      <td>149930.0</td>\n",
       "    </tr>\n",
       "    <tr>\n",
       "      <th>2</th>\n",
       "      <td>2016</td>\n",
       "      <td>ALABAMA</td>\n",
       "      <td>AL</td>\n",
       "      <td>BARBOUR</td>\n",
       "      <td>1005</td>\n",
       "      <td>PRESIDENT</td>\n",
       "      <td>HILLARY CLINTON</td>\n",
       "      <td>DEMOCRAT</td>\n",
       "      <td>4871.0</td>\n",
       "      <td>10469.0</td>\n",
       "      <td>...</td>\n",
       "      <td>0.0</td>\n",
       "      <td>1.0</td>\n",
       "      <td>1.0</td>\n",
       "      <td>0.0</td>\n",
       "      <td>4871.0</td>\n",
       "      <td>10469.0</td>\n",
       "      <td>2123367.0</td>\n",
       "      <td>729547.0</td>\n",
       "      <td>497705.0</td>\n",
       "      <td>149930.0</td>\n",
       "    </tr>\n",
       "    <tr>\n",
       "      <th>3</th>\n",
       "      <td>2016</td>\n",
       "      <td>ALABAMA</td>\n",
       "      <td>AL</td>\n",
       "      <td>BIBB</td>\n",
       "      <td>1007</td>\n",
       "      <td>PRESIDENT</td>\n",
       "      <td>HILLARY CLINTON</td>\n",
       "      <td>DEMOCRAT</td>\n",
       "      <td>1874.0</td>\n",
       "      <td>8819.0</td>\n",
       "      <td>...</td>\n",
       "      <td>1.0</td>\n",
       "      <td>0.0</td>\n",
       "      <td>1.0</td>\n",
       "      <td>0.0</td>\n",
       "      <td>0.0</td>\n",
       "      <td>0.0</td>\n",
       "      <td>2123367.0</td>\n",
       "      <td>729547.0</td>\n",
       "      <td>497705.0</td>\n",
       "      <td>149930.0</td>\n",
       "    </tr>\n",
       "    <tr>\n",
       "      <th>4</th>\n",
       "      <td>2016</td>\n",
       "      <td>ALABAMA</td>\n",
       "      <td>AL</td>\n",
       "      <td>BLOUNT</td>\n",
       "      <td>1009</td>\n",
       "      <td>PRESIDENT</td>\n",
       "      <td>HILLARY CLINTON</td>\n",
       "      <td>DEMOCRAT</td>\n",
       "      <td>2156.0</td>\n",
       "      <td>25588.0</td>\n",
       "      <td>...</td>\n",
       "      <td>1.0</td>\n",
       "      <td>0.0</td>\n",
       "      <td>0.0</td>\n",
       "      <td>0.0</td>\n",
       "      <td>0.0</td>\n",
       "      <td>0.0</td>\n",
       "      <td>2123367.0</td>\n",
       "      <td>729547.0</td>\n",
       "      <td>497705.0</td>\n",
       "      <td>149930.0</td>\n",
       "    </tr>\n",
       "  </tbody>\n",
       "</table>\n",
       "<p>5 rows × 65 columns</p>\n",
       "</div>"
      ],
      "text/plain": [
       "   year    state state_po county_name  county_fips     office  \\\n",
       "0  2016  ALABAMA       AL     AUTAUGA         1001  PRESIDENT   \n",
       "1  2016  ALABAMA       AL     BALDWIN         1003  PRESIDENT   \n",
       "2  2016  ALABAMA       AL     BARBOUR         1005  PRESIDENT   \n",
       "3  2016  ALABAMA       AL        BIBB         1007  PRESIDENT   \n",
       "4  2016  ALABAMA       AL      BLOUNT         1009  PRESIDENT   \n",
       "\n",
       "         candidate     party  candidatevotes  totalvotes  ...  \\\n",
       "0  HILLARY CLINTON  DEMOCRAT          5936.0     24973.0  ...   \n",
       "1  HILLARY CLINTON  DEMOCRAT         18458.0     95215.0  ...   \n",
       "2  HILLARY CLINTON  DEMOCRAT          4871.0     10469.0  ...   \n",
       "3  HILLARY CLINTON  DEMOCRAT          1874.0      8819.0  ...   \n",
       "4  HILLARY CLINTON  DEMOCRAT          2156.0     25588.0  ...   \n",
       "\n",
       "   Type_2015_Nonspecialized_NO Metro_Adjacent2013  PersistentChildPoverty2004  \\\n",
       "0                          1.0                0.0                         0.0   \n",
       "1                          0.0                0.0                         0.0   \n",
       "2                          0.0                1.0                         1.0   \n",
       "3                          1.0                0.0                         1.0   \n",
       "4                          1.0                0.0                         0.0   \n",
       "\n",
       "   RecreationDependent2000  smallMetroOrSmallerCandidateVotes  \\\n",
       "0                      0.0                                0.0   \n",
       "1                      1.0                                0.0   \n",
       "2                      0.0                             4871.0   \n",
       "3                      0.0                                0.0   \n",
       "4                      0.0                                0.0   \n",
       "\n",
       "  smallMetroOrSmallerTotalVotes stateTotalVotes  stateCandidateVotes  \\\n",
       "0                           0.0       2123367.0             729547.0   \n",
       "1                           0.0       2123367.0             729547.0   \n",
       "2                       10469.0       2123367.0             729547.0   \n",
       "3                           0.0       2123367.0             729547.0   \n",
       "4                           0.0       2123367.0             729547.0   \n",
       "\n",
       "   totalvotesInRuralCountiesOfState  candidatevotesInRuralCountiesOfState  \n",
       "0                          497705.0                              149930.0  \n",
       "1                          497705.0                              149930.0  \n",
       "2                          497705.0                              149930.0  \n",
       "3                          497705.0                              149930.0  \n",
       "4                          497705.0                              149930.0  \n",
       "\n",
       "[5 rows x 65 columns]"
      ]
     },
     "execution_count": 100,
     "metadata": {},
     "output_type": "execute_result"
    }
   ],
   "source": [
    "rdf.head()"
   ]
  },
  {
   "cell_type": "code",
   "execution_count": 102,
   "metadata": {
    "collapsed": true
   },
   "outputs": [],
   "source": [
    "\n",
    "rdf['percentagevotesFromRuralCounties'] = rdf['totalvotesInRuralCountiesOfState'] / rdf['stateTotalVotes']\n",
    " \n",
    "rdf['percentageCandidateVotesState'] = rdf['stateCandidateVotes'] / rdf['stateTotalVotes']\n"
   ]
  },
  {
   "cell_type": "code",
   "execution_count": 103,
   "metadata": {
    "collapsed": false
   },
   "outputs": [
    {
     "data": {
      "text/html": [
       "<div>\n",
       "<style scoped>\n",
       "    .dataframe tbody tr th:only-of-type {\n",
       "        vertical-align: middle;\n",
       "    }\n",
       "\n",
       "    .dataframe tbody tr th {\n",
       "        vertical-align: top;\n",
       "    }\n",
       "\n",
       "    .dataframe thead th {\n",
       "        text-align: right;\n",
       "    }\n",
       "</style>\n",
       "<table border=\"1\" class=\"dataframe\">\n",
       "  <thead>\n",
       "    <tr style=\"text-align: right;\">\n",
       "      <th></th>\n",
       "      <th>year</th>\n",
       "      <th>state</th>\n",
       "      <th>state_po</th>\n",
       "      <th>county_name</th>\n",
       "      <th>county_fips</th>\n",
       "      <th>office</th>\n",
       "      <th>candidate</th>\n",
       "      <th>party</th>\n",
       "      <th>candidatevotes</th>\n",
       "      <th>totalvotes</th>\n",
       "      <th>...</th>\n",
       "      <th>PersistentChildPoverty2004</th>\n",
       "      <th>RecreationDependent2000</th>\n",
       "      <th>smallMetroOrSmallerCandidateVotes</th>\n",
       "      <th>smallMetroOrSmallerTotalVotes</th>\n",
       "      <th>stateTotalVotes</th>\n",
       "      <th>stateCandidateVotes</th>\n",
       "      <th>totalvotesInRuralCountiesOfState</th>\n",
       "      <th>candidatevotesInRuralCountiesOfState</th>\n",
       "      <th>percentagevotesFromRuralCounties</th>\n",
       "      <th>percentageCandidateVotesState</th>\n",
       "    </tr>\n",
       "  </thead>\n",
       "  <tbody>\n",
       "    <tr>\n",
       "      <th>0</th>\n",
       "      <td>2016</td>\n",
       "      <td>ALABAMA</td>\n",
       "      <td>AL</td>\n",
       "      <td>AUTAUGA</td>\n",
       "      <td>1001</td>\n",
       "      <td>PRESIDENT</td>\n",
       "      <td>HILLARY CLINTON</td>\n",
       "      <td>DEMOCRAT</td>\n",
       "      <td>5936.0</td>\n",
       "      <td>24973.0</td>\n",
       "      <td>...</td>\n",
       "      <td>0.0</td>\n",
       "      <td>0.0</td>\n",
       "      <td>0.0</td>\n",
       "      <td>0.0</td>\n",
       "      <td>2123367.0</td>\n",
       "      <td>729547.0</td>\n",
       "      <td>497705.0</td>\n",
       "      <td>149930.0</td>\n",
       "      <td>0.234394</td>\n",
       "      <td>0.34358</td>\n",
       "    </tr>\n",
       "    <tr>\n",
       "      <th>1</th>\n",
       "      <td>2016</td>\n",
       "      <td>ALABAMA</td>\n",
       "      <td>AL</td>\n",
       "      <td>BALDWIN</td>\n",
       "      <td>1003</td>\n",
       "      <td>PRESIDENT</td>\n",
       "      <td>HILLARY CLINTON</td>\n",
       "      <td>DEMOCRAT</td>\n",
       "      <td>18458.0</td>\n",
       "      <td>95215.0</td>\n",
       "      <td>...</td>\n",
       "      <td>0.0</td>\n",
       "      <td>1.0</td>\n",
       "      <td>0.0</td>\n",
       "      <td>0.0</td>\n",
       "      <td>2123367.0</td>\n",
       "      <td>729547.0</td>\n",
       "      <td>497705.0</td>\n",
       "      <td>149930.0</td>\n",
       "      <td>0.234394</td>\n",
       "      <td>0.34358</td>\n",
       "    </tr>\n",
       "    <tr>\n",
       "      <th>2</th>\n",
       "      <td>2016</td>\n",
       "      <td>ALABAMA</td>\n",
       "      <td>AL</td>\n",
       "      <td>BARBOUR</td>\n",
       "      <td>1005</td>\n",
       "      <td>PRESIDENT</td>\n",
       "      <td>HILLARY CLINTON</td>\n",
       "      <td>DEMOCRAT</td>\n",
       "      <td>4871.0</td>\n",
       "      <td>10469.0</td>\n",
       "      <td>...</td>\n",
       "      <td>1.0</td>\n",
       "      <td>0.0</td>\n",
       "      <td>4871.0</td>\n",
       "      <td>10469.0</td>\n",
       "      <td>2123367.0</td>\n",
       "      <td>729547.0</td>\n",
       "      <td>497705.0</td>\n",
       "      <td>149930.0</td>\n",
       "      <td>0.234394</td>\n",
       "      <td>0.34358</td>\n",
       "    </tr>\n",
       "    <tr>\n",
       "      <th>3</th>\n",
       "      <td>2016</td>\n",
       "      <td>ALABAMA</td>\n",
       "      <td>AL</td>\n",
       "      <td>BIBB</td>\n",
       "      <td>1007</td>\n",
       "      <td>PRESIDENT</td>\n",
       "      <td>HILLARY CLINTON</td>\n",
       "      <td>DEMOCRAT</td>\n",
       "      <td>1874.0</td>\n",
       "      <td>8819.0</td>\n",
       "      <td>...</td>\n",
       "      <td>1.0</td>\n",
       "      <td>0.0</td>\n",
       "      <td>0.0</td>\n",
       "      <td>0.0</td>\n",
       "      <td>2123367.0</td>\n",
       "      <td>729547.0</td>\n",
       "      <td>497705.0</td>\n",
       "      <td>149930.0</td>\n",
       "      <td>0.234394</td>\n",
       "      <td>0.34358</td>\n",
       "    </tr>\n",
       "    <tr>\n",
       "      <th>4</th>\n",
       "      <td>2016</td>\n",
       "      <td>ALABAMA</td>\n",
       "      <td>AL</td>\n",
       "      <td>BLOUNT</td>\n",
       "      <td>1009</td>\n",
       "      <td>PRESIDENT</td>\n",
       "      <td>HILLARY CLINTON</td>\n",
       "      <td>DEMOCRAT</td>\n",
       "      <td>2156.0</td>\n",
       "      <td>25588.0</td>\n",
       "      <td>...</td>\n",
       "      <td>0.0</td>\n",
       "      <td>0.0</td>\n",
       "      <td>0.0</td>\n",
       "      <td>0.0</td>\n",
       "      <td>2123367.0</td>\n",
       "      <td>729547.0</td>\n",
       "      <td>497705.0</td>\n",
       "      <td>149930.0</td>\n",
       "      <td>0.234394</td>\n",
       "      <td>0.34358</td>\n",
       "    </tr>\n",
       "  </tbody>\n",
       "</table>\n",
       "<p>5 rows × 67 columns</p>\n",
       "</div>"
      ],
      "text/plain": [
       "   year    state state_po county_name  county_fips     office  \\\n",
       "0  2016  ALABAMA       AL     AUTAUGA         1001  PRESIDENT   \n",
       "1  2016  ALABAMA       AL     BALDWIN         1003  PRESIDENT   \n",
       "2  2016  ALABAMA       AL     BARBOUR         1005  PRESIDENT   \n",
       "3  2016  ALABAMA       AL        BIBB         1007  PRESIDENT   \n",
       "4  2016  ALABAMA       AL      BLOUNT         1009  PRESIDENT   \n",
       "\n",
       "         candidate     party  candidatevotes  totalvotes  ...  \\\n",
       "0  HILLARY CLINTON  DEMOCRAT          5936.0     24973.0  ...   \n",
       "1  HILLARY CLINTON  DEMOCRAT         18458.0     95215.0  ...   \n",
       "2  HILLARY CLINTON  DEMOCRAT          4871.0     10469.0  ...   \n",
       "3  HILLARY CLINTON  DEMOCRAT          1874.0      8819.0  ...   \n",
       "4  HILLARY CLINTON  DEMOCRAT          2156.0     25588.0  ...   \n",
       "\n",
       "   PersistentChildPoverty2004 RecreationDependent2000  \\\n",
       "0                         0.0                     0.0   \n",
       "1                         0.0                     1.0   \n",
       "2                         1.0                     0.0   \n",
       "3                         1.0                     0.0   \n",
       "4                         0.0                     0.0   \n",
       "\n",
       "   smallMetroOrSmallerCandidateVotes  smallMetroOrSmallerTotalVotes  \\\n",
       "0                                0.0                            0.0   \n",
       "1                                0.0                            0.0   \n",
       "2                             4871.0                        10469.0   \n",
       "3                                0.0                            0.0   \n",
       "4                                0.0                            0.0   \n",
       "\n",
       "   stateTotalVotes stateCandidateVotes totalvotesInRuralCountiesOfState  \\\n",
       "0        2123367.0            729547.0                         497705.0   \n",
       "1        2123367.0            729547.0                         497705.0   \n",
       "2        2123367.0            729547.0                         497705.0   \n",
       "3        2123367.0            729547.0                         497705.0   \n",
       "4        2123367.0            729547.0                         497705.0   \n",
       "\n",
       "   candidatevotesInRuralCountiesOfState  percentagevotesFromRuralCounties  \\\n",
       "0                              149930.0                          0.234394   \n",
       "1                              149930.0                          0.234394   \n",
       "2                              149930.0                          0.234394   \n",
       "3                              149930.0                          0.234394   \n",
       "4                              149930.0                          0.234394   \n",
       "\n",
       "   percentageCandidateVotesState  \n",
       "0                        0.34358  \n",
       "1                        0.34358  \n",
       "2                        0.34358  \n",
       "3                        0.34358  \n",
       "4                        0.34358  \n",
       "\n",
       "[5 rows x 67 columns]"
      ]
     },
     "execution_count": 103,
     "metadata": {},
     "output_type": "execute_result"
    }
   ],
   "source": [
    "rdf.head()"
   ]
  },
  {
   "cell_type": "code",
   "execution_count": 105,
   "metadata": {
    "collapsed": false
   },
   "outputs": [
    {
     "data": {
      "text/plain": [
       "state\n",
       "ALABAMA                 0.234394\n",
       "ALASKA                  0.000000\n",
       "ARIZONA                 0.058025\n",
       "ARKANSAS                0.375774\n",
       "CALIFORNIA              0.025876\n",
       "COLORADO                0.126785\n",
       "CONNECTICUT             0.059238\n",
       "DELAWARE                0.000000\n",
       "DISTRICT OF COLUMBIA    0.000000\n",
       "FLORIDA                 0.031598\n",
       "GEORGIA                 0.162262\n",
       "IDAHO                   0.328684\n",
       "ILLINOIS                0.122328\n",
       "INDIANA                 0.216603\n",
       "IOWA                    0.408306\n",
       "KANSAS                  0.308757\n",
       "KENTUCKY                0.402801\n",
       "LOUISIANA               0.160878\n",
       "MAINE                   0.403381\n",
       "MARYLAND                0.026577\n",
       "MASSACHUSETTS           0.017128\n",
       "MICHIGAN                0.179785\n",
       "MINNESOTA               0.218753\n",
       "MISSISSIPPI             0.561694\n",
       "MISSOURI                0.236398\n",
       "MONTANA                 0.659362\n",
       "NEBRASKA                0.357145\n",
       "NEVADA                  0.107293\n",
       "NEW HAMPSHIRE           0.375798\n",
       "NEW JERSEY              0.000000\n",
       "NEW MEXICO              0.300455\n",
       "NEW YORK                0.074573\n",
       "NORTH CAROLINA          0.210297\n",
       "NORTH DAKOTA            0.485289\n",
       "OHIO                    0.192681\n",
       "OKLAHOMA                0.335876\n",
       "OREGON                  0.157190\n",
       "PENNSYLVANIA            0.104923\n",
       "RHODE ISLAND            0.000000\n",
       "SOUTH CAROLINA          0.154263\n",
       "SOUTH DAKOTA            0.499807\n",
       "TENNESSEE               0.221069\n",
       "TEXAS                   0.118044\n",
       "UTAH                    0.113580\n",
       "VERMONT                 0.654246\n",
       "VIRGINIA                0.122375\n",
       "WASHINGTON              0.101182\n",
       "WEST VIRGINIA           0.383062\n",
       "WISCONSIN               0.254434\n",
       "WYOMING                 0.709528\n",
       "Name: percentagevotesFromRuralCounties, dtype: float64"
      ]
     },
     "execution_count": 105,
     "metadata": {},
     "output_type": "execute_result"
    }
   ],
   "source": [
    "rdf.groupby('state').percentagevotesFromRuralCounties.first()"
   ]
  },
  {
   "cell_type": "code",
   "execution_count": 113,
   "metadata": {
    "collapsed": false
   },
   "outputs": [
    {
     "data": {
      "text/plain": [
       "<AxesSubplot:xlabel='percentagevotesFromRuralCounties', ylabel='percentageCandidateVotesState'>"
      ]
     },
     "execution_count": 113,
     "metadata": {},
     "output_type": "execute_result"
    },
    {
     "data": {
      "image/png": "[encoded data removed]",
      "text/plain": [
       "<Figure size 432x288 with 1 Axes>"
      ]
     },
     "metadata": {
      "needs_background": "light"
     },
     "output_type": "display_data"
    }
   ],
   "source": [
    "sns.scatterplot(x=rdf.groupby('state').percentagevotesFromRuralCounties.first(), y=rdf.groupby('state').percentageCandidateVotesState.first())\n",
    "\n"
   ]
  },
  {
   "cell_type": "code",
   "execution_count": 116,
   "metadata": {
    "collapsed": false,
    "scrolled": true
   },
   "outputs": [
    {
     "data": {
      "image/png": "[encoded data removed]",
      "text/plain": [
       "<Figure size 576x360 with 1 Axes>"
      ]
     },
     "metadata": {
      "needs_background": "light"
     },
     "output_type": "display_data"
    }
   ],
   "source": [
    "\n",
    "pctVotesRuralS = rdf.groupby('state').percentagevotesFromRuralCounties.first()\n",
    "pctDemVotesS   = rdf.groupby('state').percentageCandidateVotesState.first()\n",
    "stateAbbr      = rdf.groupby('state').state_po.first()\n",
    "\n",
    "plt.figure(figsize=(8,5))\n",
    "sns.scatterplot(x=pctVotesRuralS,y=pctDemVotesS)\n",
    "for i in range(len(stateAbbr)):\n",
    " plt.text(x=pctVotesRuralS[i],y=pctDemVotesS[i],s=stateAbbr[i], \n",
    "          fontdict=dict(color='black', alpha=0.5, size=16))\n"
   ]
  },
  {
   "cell_type": "code",
   "execution_count": 117,
   "metadata": {
    "collapsed": true
   },
   "outputs": [],
   "source": [
    "#candidatevotes sum as candidatevotesRUclass\n",
    "#  totalvotes sum as totalvotesRUclass\n",
    "#- add a column to grouped dataframe percentagevotesRUclass =\n",
    "rdf['ruTotalVotes'] = rdf.groupby('RuralUrbanContinuumCode2013')['totalvotes'].transform('sum')\n",
    "rdf['ruCandidateVotes'] = rdf.groupby('RuralUrbanContinuumCode2013')['candidatevotes'].transform('sum')\n",
    "rdf['percentageCandidateVotesRU'] = rdf['ruCandidateVotes'] / rdf['ruTotalVotes']\n"
   ]
  },
  {
   "cell_type": "code",
   "execution_count": null,
   "metadata": {
    "collapsed": true
   },
   "outputs": [],
   "source": [
    "# bar chart of percentagevotesRUclass for each RuralUrbanContinuumCode2013\n",
    "\n",
    "sns.scatterplot(x=rdf.groupby('state').percentagevotesFromRuralCounties.first(), y=rdf.groupby('state').percentageCandidateVotesState.first())\n",
    "\n",
    "\n",
    "plt.bar(x_pos, energy, color='green')\n",
    "plt.xlabel(\"Energy Source\")\n",
    "plt.ylabel(\"Energy Output (GJ)\")\n",
    "plt.title(\"Energy output from various fuel sources\")\n"
   ]
  },
  {
   "cell_type": "code",
   "execution_count": 125,
   "metadata": {
    "collapsed": false
   },
   "outputs": [
    {
     "data": {
      "text/plain": [
       "Text(0.5, 1.0, 'Effect of population density on voting')"
      ]
     },
     "execution_count": 125,
     "metadata": {},
     "output_type": "execute_result"
    },
    {
     "data": {
      "image/png": "[encoded data removed]",
      "text/plain": [
       "<Figure size 432x288 with 1 Axes>"
      ]
     },
     "metadata": {
      "needs_background": "light"
     },
     "output_type": "display_data"
    }
   ],
   "source": [
    "sns.barplot(x=rdf.groupby('RuralUrbanContinuumCode2013').RuralUrbanContinuumCode2013.first(),\n",
    "            y=rdf.groupby('RuralUrbanContinuumCode2013').percentageCandidateVotesRU.first(),\n",
    "           palette='bwr')\n",
    "\n",
    "plt.xlabel(\"Urban   ...   Rural\")\n",
    "plt.ylabel(\"Percentage votes for Democrat\")\n",
    "plt.title(\"Effect of population density on voting\")"
   ]
  },
  {
   "cell_type": "code",
   "execution_count": null,
   "metadata": {
    "collapsed": true
   },
   "outputs": [],
   "source": []
  }
 ],
 "metadata": {
  "kernelspec": {
   "display_name": "Python 3.9",
   "language": "python",
   "name": "python3.9"
  },
  "language_info": {
   "codemirror_mode": {
    "name": "ipython",
    "version": 3
   },
   "file_extension": ".py",
   "mimetype": "text/x-python",
   "name": "python",
   "nbconvert_exporter": "python",
   "pygments_lexer": "ipython3",
   "version": "3.9.5"
  }
 },
 "nbformat": 4,
 "nbformat_minor": 0
}
